{
 "cells": [
  {
   "cell_type": "code",
   "execution_count": null,
   "id": "579beffc",
   "metadata": {},
   "outputs": [],
   "source": [
    "# imports\n",
    "import pandas as pd\n",
    "import matplotlib.pyplot as plt\n",
    "from sklearn.linear_model import LinearRegression\n",
    "import statsmodels.formula.api as smf\n",
    "import numpy as np\n",
    "from sklearn.metrics import precision_recall_fscore_support\n",
    "from sklearn.model_selection import train_test_split\n",
    "import random\n",
    "import seaborn as sns\n",
    "import statsmodels.api as sm\n",
    "from sklearn.linear_model import LogisticRegression\n",
    "from sklearn.model_selection import cross_val_predict\n",
    "from sklearn.metrics import precision_score, recall_score, f1_score\n",
    "from sklearn import svm"
   ]
  },
  {
   "cell_type": "markdown",
   "id": "b5f2b6a1",
   "metadata": {},
   "source": [
    "Here is a link to both datasets I used: https://www.kaggle.com/datasets/jessemostipak/hotel-booking-demand, https://www.kaggle.com/datasets/pkdarabi/diabetes-dataset-with-18-features"
   ]
  },
  {
   "cell_type": "markdown",
   "id": "c99b3e8e",
   "metadata": {},
   "source": [
    "## Load The Data"
   ]
  },
  {
   "cell_type": "code",
   "execution_count": null,
   "id": "1938e51f",
   "metadata": {},
   "outputs": [],
   "source": [
    "df = pd.read_csv(\"diabetes.csv\")"
   ]
  },
  {
   "cell_type": "code",
   "execution_count": null,
   "id": "755ae29e",
   "metadata": {},
   "outputs": [],
   "source": [
    "df"
   ]
  },
  {
   "cell_type": "markdown",
   "id": "3f359fb0",
   "metadata": {},
   "source": [
    "## Standardize Features"
   ]
  },
  {
   "cell_type": "code",
   "execution_count": null,
   "id": "395cbe2c",
   "metadata": {},
   "outputs": [],
   "source": [
    "for column in df.columns:\n",
    "    if column != 'Diabetes':  \n",
    "        df[column] = (df[column] - df[column].mean()) / df[column].std()"
   ]
  },
  {
   "cell_type": "code",
   "execution_count": null,
   "id": "040822ef",
   "metadata": {},
   "outputs": [],
   "source": [
    "X = df.drop(columns=['Diabetes']) \n",
    "y = df['Diabetes'] "
   ]
  },
  {
   "cell_type": "markdown",
   "id": "391c8cc0",
   "metadata": {},
   "source": [
    "## General Cross_Validate Function To Use"
   ]
  },
  {
   "cell_type": "code",
   "execution_count": null,
   "id": "2c27c566",
   "metadata": {},
   "outputs": [],
   "source": [
    "def cross_validate(X, y, num_iter=10):\n",
    "    results = {'precision': [], 'recall': [], 'f1': []}\n",
    "    for i in range(num_iter):\n",
    "        X_train, X_test, y_train, y_test = train_test_split(X, y, test_size=0.2)\n",
    "        \n",
    "        log_reg_model = LogisticRegression()\n",
    "        \n",
    "        log_reg_model.fit(X_train, y_train)\n",
    "        \n",
    "        y_pred = log_reg_model.predict(X_test)\n",
    "        \n",
    "        p, r, f, _ = precision_recall_fscore_support(y_test, y_pred, pos_label=1, average='binary')\n",
    "        \n",
    "        results['precision'].append(p)\n",
    "        results['recall'].append(r)\n",
    "        results['f1'].append(f)\n",
    "    \n",
    "    return results\n"
   ]
  },
  {
   "cell_type": "markdown",
   "id": "7456538b",
   "metadata": {},
   "source": [
    "## Values without any feature selection"
   ]
  },
  {
   "cell_type": "code",
   "execution_count": null,
   "id": "d66eafd7",
   "metadata": {},
   "outputs": [],
   "source": [
    "cv_results = cross_validate(X, y)\n",
    "\n",
    "mean_precision = sum(cv_results['precision']) / len(cv_results['precision'])\n",
    "mean_recall = sum(cv_results['recall']) / len(cv_results['recall'])\n",
    "mean_f1 = sum(cv_results['f1']) / len(cv_results['f1'])\n",
    "\n",
    "print(\"Mean Precision:\", mean_precision)\n",
    "print(\"Mean Recall:\", mean_recall)\n",
    "print(\"Mean F1-score:\", mean_f1)"
   ]
  },
  {
   "cell_type": "markdown",
   "id": "c58bc3ae",
   "metadata": {},
   "source": [
    "## Analyze The Features"
   ]
  },
  {
   "cell_type": "code",
   "execution_count": null,
   "id": "4735ab20",
   "metadata": {},
   "outputs": [],
   "source": [
    "logit_model = sm.Logit(y, X) \n",
    "logit_result = logit_model.fit()\n",
    "\n",
    "print(\"Coefficients:\")\n",
    "print(logit_result.params)\n",
    "\n",
    "print(\"Model summary:\")\n",
    "print(logit_result.summary())"
   ]
  },
  {
   "cell_type": "code",
   "execution_count": null,
   "id": "e606e887",
   "metadata": {},
   "outputs": [],
   "source": [
    "p_values = logit_result.pvalues\n",
    "\n",
    "insignificant_features = p_values[p_values > 0.05]\n",
    "\n",
    "print(\"Features with p-values > 0.05:\")\n",
    "print(insignificant_features)"
   ]
  },
  {
   "cell_type": "markdown",
   "id": "0ccf8bc2",
   "metadata": {},
   "source": [
    "## Values Of Logistical Regression Without Features with p-values > .05"
   ]
  },
  {
   "cell_type": "code",
   "execution_count": null,
   "id": "2aaf507f",
   "metadata": {},
   "outputs": [],
   "source": [
    "log_reg_model = LogisticRegression()\n",
    "\n",
    "X = df.drop(columns=[\"SBP\", \"DBP\", \"ALT\", \"BUN\", \"CCR\"])\n",
    "cv_results = cross_validate(X, y)\n",
    "\n",
    "mean_precision = sum(cv_results['precision']) / len(cv_results['precision'])\n",
    "mean_recall = sum(cv_results['recall']) / len(cv_results['recall'])\n",
    "mean_f1 = sum(cv_results['f1']) / len(cv_results['f1'])\n",
    "\n",
    "print(\"Mean Precision:\", mean_precision)\n",
    "print(\"Mean Recall:\", mean_recall)\n",
    "print(\"Mean F1-score:\", mean_f1)"
   ]
  },
  {
   "cell_type": "markdown",
   "id": "d29fddd0",
   "metadata": {},
   "source": [
    "## Analyze Data Pieces To See If Perfect Scores Is Just a fluke"
   ]
  },
  {
   "cell_type": "code",
   "execution_count": null,
   "id": "746db473",
   "metadata": {},
   "outputs": [],
   "source": [
    "target_variable = \"Diabetes\"\n",
    "for column in df.columns:\n",
    "    X = df[[column]]\n",
    "    y = df[target_variable]\n",
    "\n",
    "    lm = LogisticRegression()\n",
    "\n",
    "    lm.fit(X, y)\n",
    "\n",
    "    y_pred = lm.predict(X)\n",
    "\n",
    "    display(y_pred)\n",
    "\n",
    "    display('predicted range: [{0:.2f},{1:.2f}]'.format(min(y_pred), max(y_pred)))\n",
    "\n",
    "    p,r,f,s = precision_recall_fscore_support(y, y_pred, labels=[1,0])\n",
    "    display('precision = {}'.format(p))\n",
    "    display('recall = {}'.format(r))\n",
    "    display('f-score = {}'.format(f))\n",
    "    plt.figure(figsize=(8, 6)) \n",
    "    plt.scatter(df[column], df[target_variable], alpha=0.5)\n",
    "    plt.title(f'{column} vs. {target_variable}')\n",
    "    plt.xlabel(column)\n",
    "    plt.ylabel(target_variable)\n",
    "    plt.show() "
   ]
  },
  {
   "cell_type": "code",
   "execution_count": null,
   "id": "1565dfbc",
   "metadata": {},
   "outputs": [],
   "source": []
  },
  {
   "cell_type": "code",
   "execution_count": null,
   "id": "b8d23fbd",
   "metadata": {},
   "outputs": [],
   "source": [
    "df2 = pd.read_csv(\"hotel_bookings.csv\")\n"
   ]
  },
  {
   "cell_type": "markdown",
   "id": "f89da372",
   "metadata": {},
   "source": [
    "## Make Some Analysis"
   ]
  },
  {
   "cell_type": "code",
   "execution_count": null,
   "id": "ca762a71",
   "metadata": {},
   "outputs": [],
   "source": [
    "for column in df2.columns:\n",
    "    print(df2[column])"
   ]
  },
  {
   "cell_type": "markdown",
   "id": "7dc9ba64",
   "metadata": {},
   "source": [
    "## Handle Null Values"
   ]
  },
  {
   "cell_type": "code",
   "execution_count": null,
   "id": "704f41e7",
   "metadata": {},
   "outputs": [],
   "source": [
    "null_percentages = (df2.isnull().sum() / len(df2)) * 100\n",
    "print(\"Percentage of null values in each column:\")\n",
    "print(null_percentages)\n",
    "\n",
    "threshold = 10 \n",
    "\n",
    "columns_to_drop = null_percentages[null_percentages > threshold].index\n",
    "\n",
    "print(columns_to_drop)\n",
    "\n",
    "df2_cleaned = df2.drop(columns=columns_to_drop)\n",
    "\n",
    "print(\"DataFrame after removing columns with high null percentages:\")\n",
    "print(df2_cleaned)\n",
    "df2 = df2.dropna()\n",
    "print(df2)\n"
   ]
  },
  {
   "cell_type": "code",
   "execution_count": null,
   "id": "f9be9b45",
   "metadata": {},
   "outputs": [],
   "source": []
  },
  {
   "cell_type": "markdown",
   "id": "7dd08600",
   "metadata": {},
   "source": [
    "## Remove reservation status date because it isn't categorical or numberic in nature"
   ]
  },
  {
   "cell_type": "code",
   "execution_count": null,
   "id": "5f99b02e",
   "metadata": {},
   "outputs": [],
   "source": [
    "df2 = df2.drop(columns = \"reservation_status_date\")"
   ]
  },
  {
   "cell_type": "code",
   "execution_count": null,
   "id": "ac2068fa",
   "metadata": {},
   "outputs": [],
   "source": [
    "from sklearn.preprocessing import LabelEncoder\n",
    "\n",
    "label_encoder = LabelEncoder()\n",
    "\n",
    "for column in df2.columns:\n",
    "    if df2[column].dtype == 'object': \n",
    "        df2[column] = label_encoder.fit_transform(df2[column])\n",
    "\n",
    "print(\"DataFrame after label encoding non-numeric columns:\")\n",
    "print(df2)\n"
   ]
  },
  {
   "cell_type": "code",
   "execution_count": null,
   "id": "bce53047",
   "metadata": {},
   "outputs": [],
   "source": [
    "for column in df2.columns:\n",
    "    if column != 'is_canceled':  \n",
    "        df2[column] = (df2[column] - df2[column].mean()) / df2[column].std()"
   ]
  },
  {
   "cell_type": "code",
   "execution_count": null,
   "id": "11988a27",
   "metadata": {},
   "outputs": [],
   "source": [
    "null_percentages = (df2.isnull().sum() / len(df2)) * 100\n",
    "print(\"Percentage of null values in each column:\")\n",
    "print(null_percentages)\n",
    "\n",
    "threshold = 10\n",
    "\n",
    "columns_to_drop = null_percentages[null_percentages > threshold].index\n",
    "\n",
    "print(columns_to_drop)\n",
    "\n",
    "df2 = df2.drop(columns=columns_to_drop)"
   ]
  },
  {
   "cell_type": "markdown",
   "id": "63832b1b",
   "metadata": {},
   "source": [
    "## Perform Simple Analysis On Data"
   ]
  },
  {
   "cell_type": "code",
   "execution_count": null,
   "id": "65b21e60",
   "metadata": {},
   "outputs": [],
   "source": [
    "X = df2.drop(columns=['is_canceled']) \n",
    "y = df2['is_canceled']"
   ]
  },
  {
   "cell_type": "code",
   "execution_count": null,
   "id": "dc904677",
   "metadata": {},
   "outputs": [],
   "source": [
    "print(X)\n",
    "print(y)\n",
    "cv_results = cross_validate(X, y)\n",
    "\n",
    "mean_precision = sum(cv_results['precision']) / len(cv_results['precision'])\n",
    "mean_recall = sum(cv_results['recall']) / len(cv_results['recall'])\n",
    "mean_f1 = sum(cv_results['f1']) / len(cv_results['f1'])\n",
    "\n",
    "print(\"Mean Precision:\", mean_precision)\n",
    "print(\"Mean Recall:\", mean_recall)\n",
    "print(\"Mean F1-score:\", mean_f1)"
   ]
  },
  {
   "cell_type": "markdown",
   "id": "5cebcfc8",
   "metadata": {},
   "source": [
    "## Perform Feature Selection On Data"
   ]
  },
  {
   "cell_type": "code",
   "execution_count": null,
   "id": "94d2d5f0",
   "metadata": {},
   "outputs": [],
   "source": [
    "logit_model = sm.Logit(y, X) \n",
    "logit_result = logit_model.fit()\n",
    "\n",
    "print(\"Coefficients:\")\n",
    "print(logit_result.params)\n",
    "\n",
    "print(\"Model summary:\")\n",
    "print(logit_result.summary())"
   ]
  },
  {
   "cell_type": "markdown",
   "id": "38252479",
   "metadata": {},
   "source": [
    "## Keep the best 5 feature p-values"
   ]
  },
  {
   "cell_type": "code",
   "execution_count": null,
   "id": "5dc908c3",
   "metadata": {},
   "outputs": [],
   "source": [
    "p_values = logit_result.pvalues\n",
    "\n",
    "sorted_p_values = p_values.sort_values()\n",
    "\n",
    "significant_features = sorted_p_values[:5]\n",
    "\n",
    "print(\"Top 5 features with the smallest p-values:\")\n",
    "print(significant_features)\n",
    "significant_feature_names = significant_features.index.tolist()\n",
    "\n",
    "X = df2[significant_feature_names]\n",
    "\n",
    "print(\"DataFrame with only the top 5 significant features:\")\n",
    "print(X)"
   ]
  },
  {
   "cell_type": "code",
   "execution_count": null,
   "id": "16bf4ef2",
   "metadata": {},
   "outputs": [],
   "source": [
    "log_reg_model = LogisticRegression()\n",
    "cv_results = cross_validate(X, y)\n",
    "\n",
    "mean_precision = sum(cv_results['precision']) / len(cv_results['precision'])\n",
    "mean_recall = sum(cv_results['recall']) / len(cv_results['recall'])\n",
    "mean_f1 = sum(cv_results['f1']) / len(cv_results['f1'])\n",
    "\n",
    "print(\"Mean Precision:\", mean_precision)\n",
    "print(\"Mean Recall:\", mean_recall)\n",
    "print(\"Mean F1-score:\", mean_f1)"
   ]
  },
  {
   "cell_type": "markdown",
   "id": "5ee2ff19",
   "metadata": {},
   "source": [
    "## Try Out SVMs to see if that will help"
   ]
  },
  {
   "cell_type": "code",
   "execution_count": null,
   "id": "2a2db878",
   "metadata": {},
   "outputs": [],
   "source": [
    "def cross_validate_SVM(X, y, degree, num_iter=10):\n",
    "    results = {'precision': [], 'recall': [], 'f1': []}\n",
    "    for i in range(num_iter):\n",
    "        X_train, X_test, y_train, y_test = train_test_split(X, y, test_size=0.2)\n",
    "        \n",
    "        clf = svm.SVC(kernel='poly', degree=degree)\n",
    "        clf.fit(X_train, y_train)\n",
    "\n",
    "        y_pred = clf.predict(X_test)\n",
    "        p,r,f,s = precision_recall_fscore_support(y_test, y_pred)\n",
    "        \n",
    "        results['precision'].append(p)\n",
    "        results['recall'].append(r)\n",
    "        results['f1'].append(f)\n",
    "    \n",
    "    return results\n"
   ]
  },
  {
   "cell_type": "code",
   "execution_count": null,
   "id": "d7ad6368",
   "metadata": {},
   "outputs": [],
   "source": [
    "f1_scores = []\n",
    "\n",
    "for i in range(1, 6):\n",
    "    cv_results = cross_validate_SVM(X, y, i)\n",
    "    \n",
    "    mean_f1 = sum(cv_results['f1']) / len(cv_results['f1'])\n",
    "    \n",
    "    f1_scores.append(mean_f1)\n",
    "    \n",
    "    print(\"Degree\", i)\n",
    "    print(\"Mean F1-score:\", mean_f1)\n",
    "\n",
    "plt.plot(range(1, 6), f1_scores, marker='o')\n",
    "plt.title('Mean F1-score vs. Degree of SVM')\n",
    "plt.xlabel('Degree of SVM')\n",
    "plt.ylabel('Mean F1-score')\n",
    "plt.grid(True)\n",
    "plt.show()\n"
   ]
  },
  {
   "cell_type": "code",
   "execution_count": null,
   "id": "f1ee1490",
   "metadata": {},
   "outputs": [],
   "source": []
  }
 ],
 "metadata": {
  "kernelspec": {
   "display_name": "Python 3 (ipykernel)",
   "language": "python",
   "name": "python3"
  },
  "language_info": {
   "codemirror_mode": {
    "name": "ipython",
    "version": 3
   },
   "file_extension": ".py",
   "mimetype": "text/x-python",
   "name": "python",
   "nbconvert_exporter": "python",
   "pygments_lexer": "ipython3",
   "version": "3.9.12"
  }
 },
 "nbformat": 4,
 "nbformat_minor": 5
}
