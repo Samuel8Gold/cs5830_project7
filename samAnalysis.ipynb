{
 "cells": [
  {
   "cell_type": "code",
   "execution_count": 2,
   "id": "579beffc",
   "metadata": {},
   "outputs": [],
   "source": [
    "# imports\n",
    "import pandas as pd\n",
    "import matplotlib.pyplot as plt\n",
    "from sklearn.linear_model import LinearRegression\n",
    "import statsmodels.formula.api as smf\n",
    "import numpy as np\n",
    "from sklearn.metrics import precision_recall_fscore_support\n",
    "from sklearn.model_selection import train_test_split\n",
    "import random\n",
    "import seaborn as sns\n",
    "import statsmodels.api as sm\n",
    "from sklearn.linear_model import LogisticRegression\n",
    "from sklearn.model_selection import cross_val_predict\n",
    "from sklearn.metrics import precision_score, recall_score, f1_score"
   ]
  },
  {
   "cell_type": "markdown",
   "id": "c99b3e8e",
   "metadata": {},
   "source": [
    "## Load The Data"
   ]
  },
  {
   "cell_type": "code",
   "execution_count": 3,
   "id": "1938e51f",
   "metadata": {},
   "outputs": [],
   "source": [
    "df = pd.read_csv(\"diabetes.csv\")"
   ]
  },
  {
   "cell_type": "code",
   "execution_count": 4,
   "id": "755ae29e",
   "metadata": {},
   "outputs": [
    {
     "data": {
      "text/html": [
       "<div>\n",
       "<style scoped>\n",
       "    .dataframe tbody tr th:only-of-type {\n",
       "        vertical-align: middle;\n",
       "    }\n",
       "\n",
       "    .dataframe tbody tr th {\n",
       "        vertical-align: top;\n",
       "    }\n",
       "\n",
       "    .dataframe thead th {\n",
       "        text-align: right;\n",
       "    }\n",
       "</style>\n",
       "<table border=\"1\" class=\"dataframe\">\n",
       "  <thead>\n",
       "    <tr style=\"text-align: right;\">\n",
       "      <th></th>\n",
       "      <th>Age</th>\n",
       "      <th>Gender</th>\n",
       "      <th>BMI</th>\n",
       "      <th>SBP</th>\n",
       "      <th>DBP</th>\n",
       "      <th>FPG</th>\n",
       "      <th>Chol</th>\n",
       "      <th>Tri</th>\n",
       "      <th>HDL</th>\n",
       "      <th>LDL</th>\n",
       "      <th>ALT</th>\n",
       "      <th>BUN</th>\n",
       "      <th>CCR</th>\n",
       "      <th>FFPG</th>\n",
       "      <th>smoking</th>\n",
       "      <th>drinking</th>\n",
       "      <th>family_histroy</th>\n",
       "      <th>Diabetes</th>\n",
       "    </tr>\n",
       "  </thead>\n",
       "  <tbody>\n",
       "    <tr>\n",
       "      <th>0</th>\n",
       "      <td>26</td>\n",
       "      <td>1</td>\n",
       "      <td>20.1</td>\n",
       "      <td>119</td>\n",
       "      <td>81</td>\n",
       "      <td>5.80</td>\n",
       "      <td>4.36</td>\n",
       "      <td>0.86</td>\n",
       "      <td>0.90</td>\n",
       "      <td>2.43</td>\n",
       "      <td>12.0</td>\n",
       "      <td>5.40</td>\n",
       "      <td>63.8</td>\n",
       "      <td>5.40</td>\n",
       "      <td>3.000000</td>\n",
       "      <td>3.000000</td>\n",
       "      <td>0</td>\n",
       "      <td>0</td>\n",
       "    </tr>\n",
       "    <tr>\n",
       "      <th>1</th>\n",
       "      <td>40</td>\n",
       "      <td>1</td>\n",
       "      <td>17.7</td>\n",
       "      <td>97</td>\n",
       "      <td>54</td>\n",
       "      <td>4.60</td>\n",
       "      <td>3.70</td>\n",
       "      <td>1.02</td>\n",
       "      <td>1.50</td>\n",
       "      <td>2.04</td>\n",
       "      <td>9.2</td>\n",
       "      <td>3.70</td>\n",
       "      <td>70.3</td>\n",
       "      <td>4.10</td>\n",
       "      <td>1.000000</td>\n",
       "      <td>1.000000</td>\n",
       "      <td>0</td>\n",
       "      <td>0</td>\n",
       "    </tr>\n",
       "    <tr>\n",
       "      <th>2</th>\n",
       "      <td>40</td>\n",
       "      <td>2</td>\n",
       "      <td>19.7</td>\n",
       "      <td>85</td>\n",
       "      <td>53</td>\n",
       "      <td>5.30</td>\n",
       "      <td>5.87</td>\n",
       "      <td>1.29</td>\n",
       "      <td>1.75</td>\n",
       "      <td>3.37</td>\n",
       "      <td>10.1</td>\n",
       "      <td>4.10</td>\n",
       "      <td>61.1</td>\n",
       "      <td>4.85</td>\n",
       "      <td>3.000000</td>\n",
       "      <td>3.000000</td>\n",
       "      <td>0</td>\n",
       "      <td>0</td>\n",
       "    </tr>\n",
       "    <tr>\n",
       "      <th>3</th>\n",
       "      <td>43</td>\n",
       "      <td>1</td>\n",
       "      <td>23.1</td>\n",
       "      <td>111</td>\n",
       "      <td>71</td>\n",
       "      <td>4.50</td>\n",
       "      <td>4.05</td>\n",
       "      <td>0.74</td>\n",
       "      <td>1.27</td>\n",
       "      <td>2.60</td>\n",
       "      <td>36.5</td>\n",
       "      <td>4.38</td>\n",
       "      <td>73.4</td>\n",
       "      <td>5.30</td>\n",
       "      <td>2.000000</td>\n",
       "      <td>3.000000</td>\n",
       "      <td>0</td>\n",
       "      <td>0</td>\n",
       "    </tr>\n",
       "    <tr>\n",
       "      <th>4</th>\n",
       "      <td>36</td>\n",
       "      <td>1</td>\n",
       "      <td>26.5</td>\n",
       "      <td>130</td>\n",
       "      <td>82</td>\n",
       "      <td>5.54</td>\n",
       "      <td>6.69</td>\n",
       "      <td>3.49</td>\n",
       "      <td>0.91</td>\n",
       "      <td>3.64</td>\n",
       "      <td>69.3</td>\n",
       "      <td>3.86</td>\n",
       "      <td>67.5</td>\n",
       "      <td>5.53</td>\n",
       "      <td>3.000000</td>\n",
       "      <td>3.000000</td>\n",
       "      <td>0</td>\n",
       "      <td>0</td>\n",
       "    </tr>\n",
       "    <tr>\n",
       "      <th>...</th>\n",
       "      <td>...</td>\n",
       "      <td>...</td>\n",
       "      <td>...</td>\n",
       "      <td>...</td>\n",
       "      <td>...</td>\n",
       "      <td>...</td>\n",
       "      <td>...</td>\n",
       "      <td>...</td>\n",
       "      <td>...</td>\n",
       "      <td>...</td>\n",
       "      <td>...</td>\n",
       "      <td>...</td>\n",
       "      <td>...</td>\n",
       "      <td>...</td>\n",
       "      <td>...</td>\n",
       "      <td>...</td>\n",
       "      <td>...</td>\n",
       "      <td>...</td>\n",
       "    </tr>\n",
       "    <tr>\n",
       "      <th>4298</th>\n",
       "      <td>54</td>\n",
       "      <td>1</td>\n",
       "      <td>23.4</td>\n",
       "      <td>126</td>\n",
       "      <td>75</td>\n",
       "      <td>6.82</td>\n",
       "      <td>5.00</td>\n",
       "      <td>1.50</td>\n",
       "      <td>1.24</td>\n",
       "      <td>2.98</td>\n",
       "      <td>8.0</td>\n",
       "      <td>3.50</td>\n",
       "      <td>77.0</td>\n",
       "      <td>6.70</td>\n",
       "      <td>1.000000</td>\n",
       "      <td>3.000000</td>\n",
       "      <td>0</td>\n",
       "      <td>1</td>\n",
       "    </tr>\n",
       "    <tr>\n",
       "      <th>4299</th>\n",
       "      <td>50</td>\n",
       "      <td>2</td>\n",
       "      <td>22.3</td>\n",
       "      <td>115</td>\n",
       "      <td>84</td>\n",
       "      <td>5.32</td>\n",
       "      <td>4.37</td>\n",
       "      <td>2.09</td>\n",
       "      <td>1.37</td>\n",
       "      <td>2.29</td>\n",
       "      <td>21.2</td>\n",
       "      <td>4.40</td>\n",
       "      <td>47.3</td>\n",
       "      <td>6.55</td>\n",
       "      <td>4.860753</td>\n",
       "      <td>4.860753</td>\n",
       "      <td>0</td>\n",
       "      <td>1</td>\n",
       "    </tr>\n",
       "    <tr>\n",
       "      <th>4300</th>\n",
       "      <td>67</td>\n",
       "      <td>1</td>\n",
       "      <td>24.6</td>\n",
       "      <td>138</td>\n",
       "      <td>81</td>\n",
       "      <td>4.85</td>\n",
       "      <td>3.89</td>\n",
       "      <td>1.38</td>\n",
       "      <td>1.14</td>\n",
       "      <td>2.17</td>\n",
       "      <td>18.1</td>\n",
       "      <td>4.73</td>\n",
       "      <td>70.6</td>\n",
       "      <td>6.80</td>\n",
       "      <td>3.000000</td>\n",
       "      <td>3.000000</td>\n",
       "      <td>0</td>\n",
       "      <td>1</td>\n",
       "    </tr>\n",
       "    <tr>\n",
       "      <th>4301</th>\n",
       "      <td>60</td>\n",
       "      <td>2</td>\n",
       "      <td>29.0</td>\n",
       "      <td>101</td>\n",
       "      <td>60</td>\n",
       "      <td>6.70</td>\n",
       "      <td>5.91</td>\n",
       "      <td>1.29</td>\n",
       "      <td>1.73</td>\n",
       "      <td>2.85</td>\n",
       "      <td>18.9</td>\n",
       "      <td>7.33</td>\n",
       "      <td>50.2</td>\n",
       "      <td>7.00</td>\n",
       "      <td>3.000000</td>\n",
       "      <td>3.000000</td>\n",
       "      <td>0</td>\n",
       "      <td>1</td>\n",
       "    </tr>\n",
       "    <tr>\n",
       "      <th>4302</th>\n",
       "      <td>37</td>\n",
       "      <td>1</td>\n",
       "      <td>34.3</td>\n",
       "      <td>120</td>\n",
       "      <td>71</td>\n",
       "      <td>4.97</td>\n",
       "      <td>5.42</td>\n",
       "      <td>2.66</td>\n",
       "      <td>1.08</td>\n",
       "      <td>2.87</td>\n",
       "      <td>81.0</td>\n",
       "      <td>4.61</td>\n",
       "      <td>75.5</td>\n",
       "      <td>8.20</td>\n",
       "      <td>1.000000</td>\n",
       "      <td>2.000000</td>\n",
       "      <td>0</td>\n",
       "      <td>1</td>\n",
       "    </tr>\n",
       "  </tbody>\n",
       "</table>\n",
       "<p>4303 rows × 18 columns</p>\n",
       "</div>"
      ],
      "text/plain": [
       "      Age  Gender   BMI  SBP  DBP   FPG  Chol   Tri   HDL   LDL   ALT   BUN  \\\n",
       "0      26       1  20.1  119   81  5.80  4.36  0.86  0.90  2.43  12.0  5.40   \n",
       "1      40       1  17.7   97   54  4.60  3.70  1.02  1.50  2.04   9.2  3.70   \n",
       "2      40       2  19.7   85   53  5.30  5.87  1.29  1.75  3.37  10.1  4.10   \n",
       "3      43       1  23.1  111   71  4.50  4.05  0.74  1.27  2.60  36.5  4.38   \n",
       "4      36       1  26.5  130   82  5.54  6.69  3.49  0.91  3.64  69.3  3.86   \n",
       "...   ...     ...   ...  ...  ...   ...   ...   ...   ...   ...   ...   ...   \n",
       "4298   54       1  23.4  126   75  6.82  5.00  1.50  1.24  2.98   8.0  3.50   \n",
       "4299   50       2  22.3  115   84  5.32  4.37  2.09  1.37  2.29  21.2  4.40   \n",
       "4300   67       1  24.6  138   81  4.85  3.89  1.38  1.14  2.17  18.1  4.73   \n",
       "4301   60       2  29.0  101   60  6.70  5.91  1.29  1.73  2.85  18.9  7.33   \n",
       "4302   37       1  34.3  120   71  4.97  5.42  2.66  1.08  2.87  81.0  4.61   \n",
       "\n",
       "       CCR  FFPG   smoking  drinking  family_histroy  Diabetes  \n",
       "0     63.8  5.40  3.000000  3.000000               0         0  \n",
       "1     70.3  4.10  1.000000  1.000000               0         0  \n",
       "2     61.1  4.85  3.000000  3.000000               0         0  \n",
       "3     73.4  5.30  2.000000  3.000000               0         0  \n",
       "4     67.5  5.53  3.000000  3.000000               0         0  \n",
       "...    ...   ...       ...       ...             ...       ...  \n",
       "4298  77.0  6.70  1.000000  3.000000               0         1  \n",
       "4299  47.3  6.55  4.860753  4.860753               0         1  \n",
       "4300  70.6  6.80  3.000000  3.000000               0         1  \n",
       "4301  50.2  7.00  3.000000  3.000000               0         1  \n",
       "4302  75.5  8.20  1.000000  2.000000               0         1  \n",
       "\n",
       "[4303 rows x 18 columns]"
      ]
     },
     "execution_count": 4,
     "metadata": {},
     "output_type": "execute_result"
    }
   ],
   "source": [
    "df"
   ]
  },
  {
   "cell_type": "markdown",
   "id": "3f359fb0",
   "metadata": {},
   "source": [
    "## Standardize Features"
   ]
  },
  {
   "cell_type": "code",
   "execution_count": 5,
   "id": "395cbe2c",
   "metadata": {},
   "outputs": [],
   "source": [
    "# Iterate through each column in the DataFrame except the target variable\n",
    "for column in df.columns:\n",
    "    if column != 'Diabetes':  \n",
    "        df[column] = (df[column] - df[column].mean()) / df[column].std()"
   ]
  },
  {
   "cell_type": "code",
   "execution_count": 6,
   "id": "040822ef",
   "metadata": {},
   "outputs": [],
   "source": [
    "X = df.drop(columns=['Diabetes'])  # All variables except 'Diabetes'\n",
    "y = df['Diabetes']  # Target variable 'Diabetes'"
   ]
  },
  {
   "cell_type": "markdown",
   "id": "391c8cc0",
   "metadata": {},
   "source": [
    "## General Cross_Validate Function To Use"
   ]
  },
  {
   "cell_type": "code",
   "execution_count": 7,
   "id": "2c27c566",
   "metadata": {},
   "outputs": [],
   "source": [
    "def cross_validate(X, y, num_iter=10):\n",
    "    results = {'precision': [], 'recall': [], 'f1': []}\n",
    "    for i in range(num_iter):\n",
    "        # Split data into training and testing sets\n",
    "        X_train, X_test, y_train, y_test = train_test_split(X, y, test_size=0.2)\n",
    "        \n",
    "        # Initialize logistic regression model\n",
    "        log_reg_model = LogisticRegression()\n",
    "        \n",
    "        # Fit the logistic regression model on training data\n",
    "        log_reg_model.fit(X_train, y_train)\n",
    "        \n",
    "        # Perform predictions on the testing data\n",
    "        y_pred = log_reg_model.predict(X_test)\n",
    "        \n",
    "        # Compute precision, recall, and F1-score\n",
    "        p, r, f, _ = precision_recall_fscore_support(y_test, y_pred, pos_label=1, average='binary')\n",
    "        \n",
    "        # Append scores to results\n",
    "        results['precision'].append(p)\n",
    "        results['recall'].append(r)\n",
    "        results['f1'].append(f)\n",
    "    \n",
    "    return results\n"
   ]
  },
  {
   "cell_type": "markdown",
   "id": "7456538b",
   "metadata": {},
   "source": [
    "## Values without any feature selection"
   ]
  },
  {
   "cell_type": "code",
   "execution_count": 8,
   "id": "d66eafd7",
   "metadata": {},
   "outputs": [],
   "source": [
    "# cv_results = cross_validate(X, y)\n",
    "\n",
    "# # Calculate the mean of each statistic\n",
    "# mean_precision = sum(cv_results['precision']) / len(cv_results['precision'])\n",
    "# mean_recall = sum(cv_results['recall']) / len(cv_results['recall'])\n",
    "# mean_f1 = sum(cv_results['f1']) / len(cv_results['f1'])\n",
    "\n",
    "# # Print the mean of each statistic\n",
    "# print(\"Mean Precision:\", mean_precision)\n",
    "# print(\"Mean Recall:\", mean_recall)\n",
    "# print(\"Mean F1-score:\", mean_f1)"
   ]
  },
  {
   "cell_type": "markdown",
   "id": "c58bc3ae",
   "metadata": {},
   "source": [
    "## Analyze The Features"
   ]
  },
  {
   "cell_type": "code",
   "execution_count": 9,
   "id": "4735ab20",
   "metadata": {},
   "outputs": [
    {
     "name": "stdout",
     "output_type": "stream",
     "text": [
      "Optimization terminated successfully.\n",
      "         Current function value: 0.153823\n",
      "         Iterations 9\n",
      "Coefficients:\n",
      "Age               0.761604\n",
      "Gender           -0.476850\n",
      "BMI               0.251512\n",
      "SBP               0.006005\n",
      "DBP              -0.084991\n",
      "FPG               0.641340\n",
      "Chol             -1.480361\n",
      "Tri               0.526942\n",
      "HDL               2.775216\n",
      "LDL               1.464952\n",
      "ALT               0.083203\n",
      "BUN               0.036901\n",
      "CCR              -0.194996\n",
      "FFPG              1.803750\n",
      "smoking           0.387927\n",
      "drinking          2.752359\n",
      "family_histroy    0.170494\n",
      "dtype: float64\n",
      "Model summary:\n",
      "                           Logit Regression Results                           \n",
      "==============================================================================\n",
      "Dep. Variable:               Diabetes   No. Observations:                 4303\n",
      "Model:                          Logit   Df Residuals:                     4286\n",
      "Method:                           MLE   Df Model:                           16\n",
      "Date:                Thu, 28 Mar 2024   Pseudo R-squ.:                  0.7492\n",
      "Time:                        20:32:39   Log-Likelihood:                -661.90\n",
      "converged:                       True   LL-Null:                       -2638.7\n",
      "Covariance Type:            nonrobust   LLR p-value:                     0.000\n",
      "==================================================================================\n",
      "                     coef    std err          z      P>|z|      [0.025      0.975]\n",
      "----------------------------------------------------------------------------------\n",
      "Age                0.7616      0.090      8.443      0.000       0.585       0.938\n",
      "Gender            -0.4769      0.106     -4.489      0.000      -0.685      -0.269\n",
      "BMI                0.2515      0.090      2.807      0.005       0.076       0.427\n",
      "SBP                0.0060      0.103      0.058      0.953      -0.195       0.207\n",
      "DBP               -0.0850      0.097     -0.875      0.381      -0.275       0.105\n",
      "FPG                0.6413      0.098      6.514      0.000       0.448       0.834\n",
      "Chol              -1.4804      0.167     -8.883      0.000      -1.807      -1.154\n",
      "Tri                0.5269      0.074      7.077      0.000       0.381       0.673\n",
      "HDL                2.7752      0.212     13.066      0.000       2.359       3.191\n",
      "LDL                1.4650      0.195      7.501      0.000       1.082       1.848\n",
      "ALT                0.0832      0.078      1.071      0.284      -0.069       0.235\n",
      "BUN                0.0369      0.079      0.467      0.640      -0.118       0.192\n",
      "CCR               -0.1950      0.105     -1.858      0.063      -0.401       0.011\n",
      "FFPG               1.8038      0.139     12.978      0.000       1.531       2.076\n",
      "smoking            0.3879      0.118      3.292      0.001       0.157       0.619\n",
      "drinking           2.7524      0.189     14.581      0.000       2.382       3.122\n",
      "family_histroy     0.1705      0.063      2.695      0.007       0.046       0.294\n",
      "==================================================================================\n",
      "\n",
      "Possibly complete quasi-separation: A fraction 0.12 of observations can be\n",
      "perfectly predicted. This might indicate that there is complete\n",
      "quasi-separation. In this case some parameters will not be identified.\n"
     ]
    }
   ],
   "source": [
    "# Fit logistic regression model\n",
    "logit_model = sm.Logit(y, X)  # Assuming X and y are defined as in the previous example\n",
    "logit_result = logit_model.fit()\n",
    "\n",
    "# Print the coefficients\n",
    "print(\"Coefficients:\")\n",
    "print(logit_result.params)\n",
    "\n",
    "# Print a summary of the fitted model\n",
    "print(\"Model summary:\")\n",
    "print(logit_result.summary())"
   ]
  },
  {
   "cell_type": "code",
   "execution_count": 10,
   "id": "e606e887",
   "metadata": {},
   "outputs": [
    {
     "name": "stdout",
     "output_type": "stream",
     "text": [
      "Features with p-values > 0.05:\n",
      "SBP    0.953368\n",
      "DBP    0.381405\n",
      "ALT    0.284064\n",
      "BUN    0.640317\n",
      "CCR    0.063113\n",
      "dtype: float64\n"
     ]
    }
   ],
   "source": [
    "# Get p-values for each feature\n",
    "p_values = logit_result.pvalues\n",
    "\n",
    "# Filter features with p-values greater than 0.05\n",
    "insignificant_features = p_values[p_values > 0.05]\n",
    "\n",
    "# Print the list of insignificant features\n",
    "print(\"Features with p-values > 0.05:\")\n",
    "print(insignificant_features)"
   ]
  },
  {
   "cell_type": "markdown",
   "id": "0ccf8bc2",
   "metadata": {},
   "source": [
    "## Values Of Logistical Regression Without Features with p-values > .05"
   ]
  },
  {
   "cell_type": "code",
   "execution_count": 11,
   "id": "2aaf507f",
   "metadata": {},
   "outputs": [
    {
     "name": "stdout",
     "output_type": "stream",
     "text": [
      "Mean Precision: 1.0\n",
      "Mean Recall: 1.0\n",
      "Mean F1-score: 1.0\n"
     ]
    }
   ],
   "source": [
    "# Initialize logistic regression model\n",
    "log_reg_model = LogisticRegression()\n",
    "\n",
    "# Perform cross-validated predictions\n",
    "X = df.drop(columns=[\"SBP\", \"DBP\", \"ALT\", \"BUN\", \"CCR\"])\n",
    "cv_results = cross_validate(X, y)\n",
    "\n",
    "# Calculate the mean of each statistic\n",
    "mean_precision = sum(cv_results['precision']) / len(cv_results['precision'])\n",
    "mean_recall = sum(cv_results['recall']) / len(cv_results['recall'])\n",
    "mean_f1 = sum(cv_results['f1']) / len(cv_results['f1'])\n",
    "\n",
    "# Print the mean of each statistic\n",
    "print(\"Mean Precision:\", mean_precision)\n",
    "print(\"Mean Recall:\", mean_recall)\n",
    "print(\"Mean F1-score:\", mean_f1)"
   ]
  },
  {
   "cell_type": "markdown",
   "id": "08803aba",
   "metadata": {},
   "source": [
    "## Analyze Data Pieces To See If Perfect Scores Is Just a fluke"
   ]
  },
  {
   "cell_type": "code",
   "execution_count": 12,
   "id": "746db473",
   "metadata": {},
   "outputs": [
    {
     "data": {
      "text/plain": [
       "array([0, 0, 0, ..., 1, 0, 0], dtype=int64)"
      ]
     },
     "metadata": {},
     "output_type": "display_data"
    },
    {
     "data": {
      "text/plain": [
       "'predicted range: [0.00,1.00]'"
      ]
     },
     "metadata": {},
     "output_type": "display_data"
    },
    {
     "data": {
      "text/plain": [
       "'precision = [0.63888889 0.79525668]'"
      ]
     },
     "metadata": {},
     "output_type": "display_data"
    },
    {
     "data": {
      "text/plain": [
       "'recall = [0.47659248 0.883     ]'"
      ]
     },
     "metadata": {},
     "output_type": "display_data"
    },
    {
     "data": {
      "text/plain": [
       "'f-score = [0.54593407 0.83683462]'"
      ]
     },
     "metadata": {},
     "output_type": "display_data"
    },
    {
     "data": {
      "image/png": "[encoded data removed]",
      "text/plain": [
       "<Figure size 576x432 with 1 Axes>"
      ]
     },
     "metadata": {
      "needs_background": "light"
     },
     "output_type": "display_data"
    },
    {
     "data": {
      "text/plain": [
       "array([0, 0, 0, ..., 0, 0, 0], dtype=int64)"
      ]
     },
     "metadata": {},
     "output_type": "display_data"
    },
    {
     "data": {
      "text/plain": [
       "'predicted range: [0.00,0.00]'"
      ]
     },
     "metadata": {},
     "output_type": "display_data"
    },
    {
     "name": "stderr",
     "output_type": "stream",
     "text": [
      "C:\\Users\\dersk\\anaconda3\\lib\\site-packages\\sklearn\\metrics\\_classification.py:1509: UndefinedMetricWarning: Precision is ill-defined and being set to 0.0 in labels with no predicted samples. Use `zero_division` parameter to control this behavior.\n",
      "  _warn_prf(average, modifier, f\"{metric.capitalize()} is\", len(result))\n"
     ]
    },
    {
     "data": {
      "text/plain": [
       "'precision = [0.         0.69718801]'"
      ]
     },
     "metadata": {},
     "output_type": "display_data"
    },
    {
     "data": {
      "text/plain": [
       "'recall = [0. 1.]'"
      ]
     },
     "metadata": {},
     "output_type": "display_data"
    },
    {
     "data": {
      "text/plain": [
       "'f-score = [0.         0.82158017]'"
      ]
     },
     "metadata": {},
     "output_type": "display_data"
    },
    {
     "data": {
      "image/png": "[encoded data removed]",
      "text/plain": [
       "<Figure size 576x432 with 1 Axes>"
      ]
     },
     "metadata": {
      "needs_background": "light"
     },
     "output_type": "display_data"
    },
    {
     "data": {
      "text/plain": [
       "array([0, 0, 0, ..., 0, 0, 1], dtype=int64)"
      ]
     },
     "metadata": {},
     "output_type": "display_data"
    },
    {
     "data": {
      "text/plain": [
       "'predicted range: [0.00,1.00]'"
      ]
     },
     "metadata": {},
     "output_type": "display_data"
    },
    {
     "data": {
      "text/plain": [
       "'precision = [0.50431034 0.70867109]'"
      ]
     },
     "metadata": {},
     "output_type": "display_data"
    },
    {
     "data": {
      "text/plain": [
       "'recall = [0.08979279 0.96166667]'"
      ]
     },
     "metadata": {},
     "output_type": "display_data"
    },
    {
     "data": {
      "text/plain": [
       "'f-score = [0.152443   0.81600905]'"
      ]
     },
     "metadata": {},
     "output_type": "display_data"
    },
    {
     "data": {
      "image/png": "[encoded data removed]",
      "text/plain": [
       "<Figure size 576x432 with 1 Axes>"
      ]
     },
     "metadata": {
      "needs_background": "light"
     },
     "output_type": "display_data"
    },
    {
     "data": {
      "text/plain": [
       "array([0, 0, 0, ..., 0, 0, 0], dtype=int64)"
      ]
     },
     "metadata": {},
     "output_type": "display_data"
    },
    {
     "data": {
      "text/plain": [
       "'predicted range: [0.00,1.00]'"
      ]
     },
     "metadata": {},
     "output_type": "display_data"
    },
    {
     "data": {
      "text/plain": [
       "'precision = [0.62640449 0.72637446]'"
      ]
     },
     "metadata": {},
     "output_type": "display_data"
    },
    {
     "data": {
      "text/plain": [
       "'recall = [0.17114351 0.95566667]'"
      ]
     },
     "metadata": {},
     "output_type": "display_data"
    },
    {
     "data": {
      "text/plain": [
       "'f-score = [0.26883665 0.82539226]'"
      ]
     },
     "metadata": {},
     "output_type": "display_data"
    },
    {
     "data": {
      "image/png": "[encoded data removed]",
      "text/plain": [
       "<Figure size 576x432 with 1 Axes>"
      ]
     },
     "metadata": {
      "needs_background": "light"
     },
     "output_type": "display_data"
    },
    {
     "data": {
      "text/plain": [
       "array([0, 0, 0, ..., 0, 0, 0], dtype=int64)"
      ]
     },
     "metadata": {},
     "output_type": "display_data"
    },
    {
     "data": {
      "text/plain": [
       "'predicted range: [0.00,1.00]'"
      ]
     },
     "metadata": {},
     "output_type": "display_data"
    },
    {
     "data": {
      "text/plain": [
       "'precision = [0.61538462 0.70295858]'"
      ]
     },
     "metadata": {},
     "output_type": "display_data"
    },
    {
     "data": {
      "text/plain": [
       "'recall = [0.03683807 0.99      ]'"
      ]
     },
     "metadata": {},
     "output_type": "display_data"
    },
    {
     "data": {
      "text/plain": [
       "'f-score = [0.06951484 0.82214533]'"
      ]
     },
     "metadata": {},
     "output_type": "display_data"
    },
    {
     "data": {
      "image/png": "[encoded data removed]",
      "text/plain": [
       "<Figure size 576x432 with 1 Axes>"
      ]
     },
     "metadata": {
      "needs_background": "light"
     },
     "output_type": "display_data"
    },
    {
     "data": {
      "text/plain": [
       "array([0, 0, 0, ..., 0, 1, 0], dtype=int64)"
      ]
     },
     "metadata": {},
     "output_type": "display_data"
    },
    {
     "data": {
      "text/plain": [
       "'predicted range: [0.00,1.00]'"
      ]
     },
     "metadata": {},
     "output_type": "display_data"
    },
    {
     "data": {
      "text/plain": [
       "'precision = [0.76724138 0.82488889]'"
      ]
     },
     "metadata": {},
     "output_type": "display_data"
    },
    {
     "data": {
      "text/plain": [
       "'recall = [0.54643131 0.928     ]'"
      ]
     },
     "metadata": {},
     "output_type": "display_data"
    },
    {
     "data": {
      "text/plain": [
       "'f-score = [0.6382788  0.87341176]'"
      ]
     },
     "metadata": {},
     "output_type": "display_data"
    },
    {
     "data": {
      "image/png": "[encoded data removed]",
      "text/plain": [
       "<Figure size 576x432 with 1 Axes>"
      ]
     },
     "metadata": {
      "needs_background": "light"
     },
     "output_type": "display_data"
    },
    {
     "data": {
      "text/plain": [
       "array([0, 0, 0, ..., 0, 0, 0], dtype=int64)"
      ]
     },
     "metadata": {},
     "output_type": "display_data"
    },
    {
     "data": {
      "text/plain": [
       "'predicted range: [0.00,1.00]'"
      ]
     },
     "metadata": {},
     "output_type": "display_data"
    },
    {
     "data": {
      "text/plain": [
       "'precision = [0.52173913 0.69836449]'"
      ]
     },
     "metadata": {},
     "output_type": "display_data"
    },
    {
     "data": {
      "text/plain": [
       "'recall = [0.00920952 0.99633333]'"
      ]
     },
     "metadata": {},
     "output_type": "display_data"
    },
    {
     "data": {
      "text/plain": [
       "'f-score = [0.01809955 0.82115385]'"
      ]
     },
     "metadata": {},
     "output_type": "display_data"
    },
    {
     "data": {
      "image/png": "[encoded data removed]",
      "text/plain": [
       "<Figure size 576x432 with 1 Axes>"
      ]
     },
     "metadata": {
      "needs_background": "light"
     },
     "output_type": "display_data"
    },
    {
     "data": {
      "text/plain": [
       "array([0, 0, 0, ..., 0, 0, 0], dtype=int64)"
      ]
     },
     "metadata": {},
     "output_type": "display_data"
    },
    {
     "data": {
      "text/plain": [
       "'predicted range: [0.00,1.00]'"
      ]
     },
     "metadata": {},
     "output_type": "display_data"
    },
    {
     "data": {
      "text/plain": [
       "'precision = [0.57664234 0.70619299]'"
      ]
     },
     "metadata": {},
     "output_type": "display_data"
    },
    {
     "data": {
      "text/plain": [
       "'recall = [0.06062932 0.98066667]'"
      ]
     },
     "metadata": {},
     "output_type": "display_data"
    },
    {
     "data": {
      "text/plain": [
       "'f-score = [0.10972222 0.82109964]'"
      ]
     },
     "metadata": {},
     "output_type": "display_data"
    },
    {
     "data": {
      "image/png": "[encoded data removed]",
      "text/plain": [
       "<Figure size 576x432 with 1 Axes>"
      ]
     },
     "metadata": {
      "needs_background": "light"
     },
     "output_type": "display_data"
    },
    {
     "data": {
      "text/plain": [
       "array([0, 0, 0, ..., 0, 0, 0], dtype=int64)"
      ]
     },
     "metadata": {},
     "output_type": "display_data"
    },
    {
     "data": {
      "text/plain": [
       "'predicted range: [0.00,1.00]'"
      ]
     },
     "metadata": {},
     "output_type": "display_data"
    },
    {
     "data": {
      "text/plain": [
       "'precision = [0.97857143 0.77028071]'"
      ]
     },
     "metadata": {},
     "output_type": "display_data"
    },
    {
     "data": {
      "text/plain": [
       "'recall = [0.31542594 0.997     ]'"
      ]
     },
     "metadata": {},
     "output_type": "display_data"
    },
    {
     "data": {
      "text/plain": [
       "'f-score = [0.47707487 0.86909778]'"
      ]
     },
     "metadata": {},
     "output_type": "display_data"
    },
    {
     "data": {
      "image/png": "[encoded data removed]",
      "text/plain": [
       "<Figure size 576x432 with 1 Axes>"
      ]
     },
     "metadata": {
      "needs_background": "light"
     },
     "output_type": "display_data"
    },
    {
     "data": {
      "text/plain": [
       "array([0, 0, 0, ..., 0, 0, 0], dtype=int64)"
      ]
     },
     "metadata": {},
     "output_type": "display_data"
    },
    {
     "data": {
      "text/plain": [
       "'predicted range: [0.00,1.00]'"
      ]
     },
     "metadata": {},
     "output_type": "display_data"
    },
    {
     "data": {
      "text/plain": [
       "'precision = [0.75040258 0.77267789]'"
      ]
     },
     "metadata": {},
     "output_type": "display_data"
    },
    {
     "data": {
      "text/plain": [
       "'recall = [0.35763622 0.94833333]'"
      ]
     },
     "metadata": {},
     "output_type": "display_data"
    },
    {
     "data": {
      "text/plain": [
       "'f-score = [0.48440748 0.85154145]'"
      ]
     },
     "metadata": {},
     "output_type": "display_data"
    },
    {
     "data": {
      "image/png": "[encoded data removed]",
      "text/plain": [
       "<Figure size 576x432 with 1 Axes>"
      ]
     },
     "metadata": {
      "needs_background": "light"
     },
     "output_type": "display_data"
    },
    {
     "data": {
      "text/plain": [
       "array([0, 0, 0, ..., 0, 0, 0], dtype=int64)"
      ]
     },
     "metadata": {},
     "output_type": "display_data"
    },
    {
     "data": {
      "text/plain": [
       "'predicted range: [0.00,1.00]'"
      ]
     },
     "metadata": {},
     "output_type": "display_data"
    },
    {
     "data": {
      "text/plain": [
       "'precision = [0.22222222 0.6970191 ]'"
      ]
     },
     "metadata": {},
     "output_type": "display_data"
    },
    {
     "data": {
      "text/plain": [
       "'recall = [0.00153492 0.99766667]'"
      ]
     },
     "metadata": {},
     "output_type": "display_data"
    },
    {
     "data": {
      "text/plain": [
       "'f-score = [0.00304878 0.82067453]'"
      ]
     },
     "metadata": {},
     "output_type": "display_data"
    },
    {
     "data": {
      "image/png": "[encoded data removed]",
      "text/plain": [
       "<Figure size 576x432 with 1 Axes>"
      ]
     },
     "metadata": {
      "needs_background": "light"
     },
     "output_type": "display_data"
    },
    {
     "data": {
      "text/plain": [
       "array([0, 0, 0, ..., 0, 0, 0], dtype=int64)"
      ]
     },
     "metadata": {},
     "output_type": "display_data"
    },
    {
     "data": {
      "text/plain": [
       "'predicted range: [0.00,1.00]'"
      ]
     },
     "metadata": {},
     "output_type": "display_data"
    },
    {
     "data": {
      "text/plain": [
       "'precision = [0.5        0.69931877]'"
      ]
     },
     "metadata": {},
     "output_type": "display_data"
    },
    {
     "data": {
      "text/plain": [
       "'recall = [0.01765157 0.99233333]'"
      ]
     },
     "metadata": {},
     "output_type": "display_data"
    },
    {
     "data": {
      "text/plain": [
       "'f-score = [0.03409933 0.82044922]'"
      ]
     },
     "metadata": {},
     "output_type": "display_data"
    },
    {
     "data": {
      "image/png": "[encoded data removed]",
      "text/plain": [
       "<Figure size 576x432 with 1 Axes>"
      ]
     },
     "metadata": {
      "needs_background": "light"
     },
     "output_type": "display_data"
    },
    {
     "data": {
      "text/plain": [
       "array([0, 0, 0, ..., 0, 0, 0], dtype=int64)"
      ]
     },
     "metadata": {},
     "output_type": "display_data"
    },
    {
     "data": {
      "text/plain": [
       "'predicted range: [0.00,0.00]'"
      ]
     },
     "metadata": {},
     "output_type": "display_data"
    },
    {
     "name": "stderr",
     "output_type": "stream",
     "text": [
      "C:\\Users\\dersk\\anaconda3\\lib\\site-packages\\sklearn\\metrics\\_classification.py:1509: UndefinedMetricWarning: Precision is ill-defined and being set to 0.0 in labels with no predicted samples. Use `zero_division` parameter to control this behavior.\n",
      "  _warn_prf(average, modifier, f\"{metric.capitalize()} is\", len(result))\n"
     ]
    },
    {
     "data": {
      "text/plain": [
       "'precision = [0.         0.69718801]'"
      ]
     },
     "metadata": {},
     "output_type": "display_data"
    },
    {
     "data": {
      "text/plain": [
       "'recall = [0. 1.]'"
      ]
     },
     "metadata": {},
     "output_type": "display_data"
    },
    {
     "data": {
      "text/plain": [
       "'f-score = [0.         0.82158017]'"
      ]
     },
     "metadata": {},
     "output_type": "display_data"
    },
    {
     "data": {
      "image/png": "[encoded data removed]",
      "text/plain": [
       "<Figure size 576x432 with 1 Axes>"
      ]
     },
     "metadata": {
      "needs_background": "light"
     },
     "output_type": "display_data"
    },
    {
     "data": {
      "text/plain": [
       "array([0, 0, 0, ..., 1, 1, 1], dtype=int64)"
      ]
     },
     "metadata": {},
     "output_type": "display_data"
    },
    {
     "data": {
      "text/plain": [
       "'predicted range: [0.00,1.00]'"
      ]
     },
     "metadata": {},
     "output_type": "display_data"
    },
    {
     "data": {
      "text/plain": [
       "'precision = [0.87881981 0.86016696]'"
      ]
     },
     "metadata": {},
     "output_type": "display_data"
    },
    {
     "data": {
      "text/plain": [
       "'recall = [0.6400614  0.96166667]'"
      ]
     },
     "metadata": {},
     "output_type": "display_data"
    },
    {
     "data": {
      "text/plain": [
       "'f-score = [0.74067496 0.90808939]'"
      ]
     },
     "metadata": {},
     "output_type": "display_data"
    },
    {
     "data": {
      "image/png": "[encoded data removed]",
      "text/plain": [
       "<Figure size 576x432 with 1 Axes>"
      ]
     },
     "metadata": {
      "needs_background": "light"
     },
     "output_type": "display_data"
    },
    {
     "data": {
      "text/plain": [
       "array([0, 0, 0, ..., 0, 0, 0], dtype=int64)"
      ]
     },
     "metadata": {},
     "output_type": "display_data"
    },
    {
     "data": {
      "text/plain": [
       "'predicted range: [0.00,1.00]'"
      ]
     },
     "metadata": {},
     "output_type": "display_data"
    },
    {
     "data": {
      "text/plain": [
       "'precision = [1.         0.87847731]'"
      ]
     },
     "metadata": {},
     "output_type": "display_data"
    },
    {
     "data": {
      "text/plain": [
       "'recall = [0.68150422 1.        ]'"
      ]
     },
     "metadata": {},
     "output_type": "display_data"
    },
    {
     "data": {
      "text/plain": [
       "'f-score = [0.81058877 0.93530787]'"
      ]
     },
     "metadata": {},
     "output_type": "display_data"
    },
    {
     "data": {
      "image/png": "[encoded data removed]",
      "text/plain": [
       "<Figure size 576x432 with 1 Axes>"
      ]
     },
     "metadata": {
      "needs_background": "light"
     },
     "output_type": "display_data"
    },
    {
     "data": {
      "text/plain": [
       "array([0, 0, 0, ..., 0, 0, 0], dtype=int64)"
      ]
     },
     "metadata": {},
     "output_type": "display_data"
    },
    {
     "data": {
      "text/plain": [
       "'predicted range: [0.00,1.00]'"
      ]
     },
     "metadata": {},
     "output_type": "display_data"
    },
    {
     "data": {
      "text/plain": [
       "'precision = [1.         0.87847731]'"
      ]
     },
     "metadata": {},
     "output_type": "display_data"
    },
    {
     "data": {
      "text/plain": [
       "'recall = [0.68150422 1.        ]'"
      ]
     },
     "metadata": {},
     "output_type": "display_data"
    },
    {
     "data": {
      "text/plain": [
       "'f-score = [0.81058877 0.93530787]'"
      ]
     },
     "metadata": {},
     "output_type": "display_data"
    },
    {
     "data": {
      "image/png": "[encoded data removed]",
      "text/plain": [
       "<Figure size 576x432 with 1 Axes>"
      ]
     },
     "metadata": {
      "needs_background": "light"
     },
     "output_type": "display_data"
    },
    {
     "data": {
      "text/plain": [
       "array([0, 0, 0, ..., 0, 0, 0], dtype=int64)"
      ]
     },
     "metadata": {},
     "output_type": "display_data"
    },
    {
     "data": {
      "text/plain": [
       "'predicted range: [0.00,0.00]'"
      ]
     },
     "metadata": {},
     "output_type": "display_data"
    },
    {
     "name": "stderr",
     "output_type": "stream",
     "text": [
      "C:\\Users\\dersk\\anaconda3\\lib\\site-packages\\sklearn\\metrics\\_classification.py:1509: UndefinedMetricWarning: Precision is ill-defined and being set to 0.0 in labels with no predicted samples. Use `zero_division` parameter to control this behavior.\n",
      "  _warn_prf(average, modifier, f\"{metric.capitalize()} is\", len(result))\n"
     ]
    },
    {
     "data": {
      "text/plain": [
       "'precision = [0.         0.69718801]'"
      ]
     },
     "metadata": {},
     "output_type": "display_data"
    },
    {
     "data": {
      "text/plain": [
       "'recall = [0. 1.]'"
      ]
     },
     "metadata": {},
     "output_type": "display_data"
    },
    {
     "data": {
      "text/plain": [
       "'f-score = [0.         0.82158017]'"
      ]
     },
     "metadata": {},
     "output_type": "display_data"
    },
    {
     "data": {
      "image/png": "[encoded data removed]",
      "text/plain": [
       "<Figure size 576x432 with 1 Axes>"
      ]
     },
     "metadata": {
      "needs_background": "light"
     },
     "output_type": "display_data"
    },
    {
     "data": {
      "text/plain": [
       "array([0, 0, 0, ..., 1, 1, 1], dtype=int64)"
      ]
     },
     "metadata": {},
     "output_type": "display_data"
    },
    {
     "data": {
      "text/plain": [
       "'predicted range: [0.00,1.00]'"
      ]
     },
     "metadata": {},
     "output_type": "display_data"
    },
    {
     "data": {
      "text/plain": [
       "'precision = [1. 1.]'"
      ]
     },
     "metadata": {},
     "output_type": "display_data"
    },
    {
     "data": {
      "text/plain": [
       "'recall = [1. 1.]'"
      ]
     },
     "metadata": {},
     "output_type": "display_data"
    },
    {
     "data": {
      "text/plain": [
       "'f-score = [1. 1.]'"
      ]
     },
     "metadata": {},
     "output_type": "display_data"
    },
    {
     "data": {
      "image/png": "[encoded data removed]",
      "text/plain": [
       "<Figure size 576x432 with 1 Axes>"
      ]
     },
     "metadata": {
      "needs_background": "light"
     },
     "output_type": "display_data"
    }
   ],
   "source": [
    "# Iterate through each column in the DataFrame and find statistical variables with them\n",
    "target_variable = \"Diabetes\"\n",
    "for column in df.columns:\n",
    "    # Create a scatterplot for the current column against the target variable\n",
    "    X = df[[column]]\n",
    "    y = df[target_variable]\n",
    "\n",
    "    # Create a logistic regression model\n",
    "    lm = LogisticRegression()\n",
    "\n",
    "    # Fit the model\n",
    "    lm.fit(X, y)\n",
    "\n",
    "    # Predictions\n",
    "    y_pred = lm.predict(X)\n",
    "\n",
    "    display(y_pred)\n",
    "\n",
    "    display('predicted range: [{0:.2f},{1:.2f}]'.format(min(y_pred), max(y_pred)))\n",
    "\n",
    "    p,r,f,s = precision_recall_fscore_support(y, y_pred, labels=[1,0])\n",
    "    display('precision = {}'.format(p))\n",
    "    display('recall = {}'.format(r))\n",
    "    display('f-score = {}'.format(f))\n",
    "    plt.figure(figsize=(8, 6)) \n",
    "    plt.scatter(df[column], df[target_variable], alpha=0.5)\n",
    "    plt.title(f'{column} vs. {target_variable}')\n",
    "    plt.xlabel(column)\n",
    "    plt.ylabel(target_variable)\n",
    "    plt.show()  # Display the scatterplot"
   ]
  },
  {
   "cell_type": "code",
   "execution_count": null,
   "id": "1565dfbc",
   "metadata": {},
   "outputs": [],
   "source": []
  },
  {
   "cell_type": "code",
   "execution_count": null,
   "id": "b8d23fbd",
   "metadata": {},
   "outputs": [],
   "source": []
  },
  {
   "cell_type": "code",
   "execution_count": null,
   "id": "ca762a71",
   "metadata": {},
   "outputs": [],
   "source": []
  },
  {
   "cell_type": "code",
   "execution_count": null,
   "id": "704f41e7",
   "metadata": {},
   "outputs": [],
   "source": []
  }
 ],
 "metadata": {
  "kernelspec": {
   "display_name": "Python 3 (ipykernel)",
   "language": "python",
   "name": "python3"
  },
  "language_info": {
   "codemirror_mode": {
    "name": "ipython",
    "version": 3
   },
   "file_extension": ".py",
   "mimetype": "text/x-python",
   "name": "python",
   "nbconvert_exporter": "python",
   "pygments_lexer": "ipython3",
   "version": "3.9.12"
  }
 },
 "nbformat": 4,
 "nbformat_minor": 5
}
